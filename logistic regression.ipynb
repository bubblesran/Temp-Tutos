{
 "cells": [
  {
   "cell_type": "code",
   "execution_count": 1,
   "metadata": {
    "collapsed": true
   },
   "outputs": [],
   "source": [
    "import numpy as np\n",
    "import pandas as pd\n",
    "from matplotlib import pyplot as plt\n",
    "%matplotlib inline"
   ]
  },
  {
   "cell_type": "code",
   "execution_count": 2,
   "metadata": {
    "collapsed": true
   },
   "outputs": [],
   "source": [
    "# Generate two random series as features(IV)\n",
    "x_1=np.random.rand(500)\n",
    "x_2=np.random.rand(500)"
   ]
  },
  {
   "cell_type": "code",
   "execution_count": 3,
   "metadata": {
    "collapsed": false
   },
   "outputs": [],
   "source": [
    "# Set y. The real decision boundary is drawed by function x2=square(x1).\n",
    "# When points(x1,x2) are on the upper of the line, it belongs to (0), otherwise (1).\n",
    "# You can always change the rule of seperation.\n",
    "y=[]\n",
    "for x1,x2 in zip(x_1,x_2):\n",
    "    if x1>=x2**0.5:\n",
    "        v=1\n",
    "    else:\n",
    "        v=0\n",
    "    y.append(v)"
   ]
  },
  {
   "cell_type": "code",
   "execution_count": 4,
   "metadata": {
    "collapsed": true
   },
   "outputs": [],
   "source": [
    "# Combine x1, x2 and y to a dataframe:\n",
    "df=pd.DataFrame({'y':y,'x1':x_1,'x2':x_2})"
   ]
  },
  {
   "cell_type": "code",
   "execution_count": 5,
   "metadata": {
    "collapsed": true
   },
   "outputs": [],
   "source": [
    "# Train data and test data\n",
    "train_df=df.loc[:449]\n",
    "test_df=df.loc[450:]"
   ]
  },
  {
   "cell_type": "code",
   "execution_count": 6,
   "metadata": {
    "collapsed": false
   },
   "outputs": [],
   "source": [
    "# Create features:\n",
    "x_train=train_df[['x1','x2']]\n",
    "x_train['x2_sr']=x_train['x2']**0.5\n",
    "x_train['c']=1\n",
    "x_train=x_train.drop('x2',axis=1)\n",
    "y_train=train_df['y']"
   ]
  },
  {
   "cell_type": "code",
   "execution_count": 7,
   "metadata": {
    "collapsed": false
   },
   "outputs": [],
   "source": [
    "# Transform datas to matrix\n",
    "x=np.mat(x_train)\n",
    "y=np.transpose(np.mat(y_train))\n",
    "theta=np.mat([[0],[0],[0]])"
   ]
  },
  {
   "cell_type": "code",
   "execution_count": 8,
   "metadata": {
    "collapsed": false
   },
   "outputs": [],
   "source": [
    "# Define sigmoid function\n",
    "def sig(x,theta):\n",
    "    h=1/(1+np.exp(-(x*theta)))\n",
    "    return h"
   ]
  },
  {
   "cell_type": "code",
   "execution_count": 9,
   "metadata": {
    "collapsed": false
   },
   "outputs": [],
   "source": [
    "# Set learning rate alpha and run gradient descent 2500 times\n",
    "# Calculate cost function every time\n",
    "alpha=0.001\n",
    "costs=[]\n",
    "iterate=list(range(1800))\n",
    "for i in iterate:\n",
    "    h=sig(x,theta)\n",
    "    theta=theta-alpha*x.T.dot((sig(x,theta)-y))\n",
    "    cost=(-y.T.dot(np.log(sig(x,theta)))-(1-y).T.dot(np.log(1-(sig(x,theta)))))/len(y_train)\n",
    "    cost_v=cost.item(0)\n",
    "    costs.append(cost_v)"
   ]
  },
  {
   "cell_type": "code",
   "execution_count": 10,
   "metadata": {
    "collapsed": false
   },
   "outputs": [
    {
     "data": {
      "image/png": "[encoded data removed]",
      "text/plain": [
       "<matplotlib.figure.Figure at 0x8a8ae10>"
      ]
     },
     "metadata": {},
     "output_type": "display_data"
    }
   ],
   "source": [
    "# Plot cost function along with iterate times\n",
    "plt.plot(iterate,costs)\n",
    "plt.show()"
   ]
  },
  {
   "cell_type": "code",
   "execution_count": 11,
   "metadata": {
    "collapsed": false
   },
   "outputs": [
    {
     "data": {
      "text/plain": [
       "matrix([[ 11.11800761],\n",
       "        [-10.85379608],\n",
       "        [ -0.46349111]])"
      ]
     },
     "execution_count": 11,
     "metadata": {},
     "output_type": "execute_result"
    }
   ],
   "source": [
    "# Get estimated theta\n",
    "theta"
   ]
  },
  {
   "cell_type": "code",
   "execution_count": 12,
   "metadata": {
    "collapsed": false
   },
   "outputs": [
    {
     "name": "stdout",
     "output_type": "stream",
     "text": [
      "The prediciton score is: 0.9777777777777777\n"
     ]
    }
   ],
   "source": [
    "# Predict y by x from train data\n",
    "pred_ty=[]\n",
    "h_test=sig(x,theta)\n",
    "for h in h_test:\n",
    "    if h>=0.5:\n",
    "        v=1\n",
    "    else:\n",
    "        v=0\n",
    "    pred_ty.append(v)\n",
    "# make a score to see how well the model fit\n",
    "count_train=0\n",
    "true_ty=train_df['y']\n",
    "for ty,py in zip(true_ty,pred_ty):\n",
    "    if ty==py:\n",
    "        count_train+=1\n",
    "score=count_train/len(true_ty)\n",
    "print('The prediciton score is:',score)"
   ]
  },
  {
   "cell_type": "code",
   "execution_count": 13,
   "metadata": {
    "collapsed": false
   },
   "outputs": [
    {
     "data": {
      "image/png": "[encoded data removed]",
      "text/plain": [
       "<matplotlib.figure.Figure at 0xad4a9b0>"
      ]
     },
     "metadata": {},
     "output_type": "display_data"
    }
   ],
   "source": [
    "# Plot data and decision boundary(blue one is estimated, green is real)\n",
    "sort_x=np.sort(train_df['x1'])\n",
    "db=(theta.item(0)*sort_x/theta.item(1)+theta.item(2)/theta.item(1))**2\n",
    "real_db=sort_x**2\n",
    "xy1=train_df[train_df['y']==1]\n",
    "xy0=train_df[train_df['y']==0]\n",
    "fig=plt.figure()\n",
    "plt.scatter(xy1['x1'],xy1['x2'],marker='x',c='red')\n",
    "plt.scatter(xy0['x1'],xy0['x2'],marker='o',c='blue')\n",
    "plt.plot(sort_x,db)\n",
    "plt.plot(sort_x,real_db,c='green')\n",
    "plt.show()"
   ]
  },
  {
   "cell_type": "code",
   "execution_count": 14,
   "metadata": {
    "collapsed": false
   },
   "outputs": [],
   "source": [
    "# Predict y by using x from test data\n",
    "test_x_m=test_df.drop('y',axis=1)\n",
    "test_x_m['x2_sr']=test_x_m['x2']**0.5\n",
    "test_x_m['c']=1\n",
    "test_x_m=test_x_m.drop('x2',axis=1)\n",
    "x_test=x=np.mat(test_x_m)\n",
    "pred_y=[]\n",
    "h_test=sig(x_test,theta)\n",
    "for h in h_test:\n",
    "    if h>=0.5:\n",
    "        v=1\n",
    "    else:\n",
    "        v=0\n",
    "    pred_y.append(v)"
   ]
  },
  {
   "cell_type": "code",
   "execution_count": 15,
   "metadata": {
    "collapsed": false
   },
   "outputs": [
    {
     "name": "stdout",
     "output_type": "stream",
     "text": [
      "The prediciton score is: 1.0\n"
     ]
    }
   ],
   "source": [
    "# Make a score to see how well the model fit\n",
    "count=0\n",
    "true_y=test_df['y']\n",
    "for ty,py in zip(true_y,pred_y):\n",
    "    if ty==py:\n",
    "        count+=1\n",
    "score=count/len(true_y)\n",
    "print('The prediciton score is:',score)\n",
    "pred_df=test_df.drop('y',axis=1)\n",
    "ys=pd.Series(pred_y)\n",
    "pred_df['y']=ys.values"
   ]
  },
  {
   "cell_type": "code",
   "execution_count": 17,
   "metadata": {
    "collapsed": false
   },
   "outputs": [
    {
     "data": {
      "image/png": "[encoded data removed]",
      "text/plain": [
       "<matplotlib.figure.Figure at 0xad32530>"
      ]
     },
     "metadata": {},
     "output_type": "display_data"
    },
    {
     "data": {
      "image/png": "[encoded data removed]",
      "text/plain": [
       "<matplotlib.figure.Figure at 0xb08c710>"
      ]
     },
     "metadata": {},
     "output_type": "display_data"
    }
   ],
   "source": [
    "# Plot predict and true values\n",
    "sort_xt=np.sort(test_df['x1'])\n",
    "xyr1=test_df[test_df['y']==1]\n",
    "xyr0=test_df[test_df['y']==0]\n",
    "xyp1=pred_df[pred_df['y']==1]\n",
    "xyp0=test_df[pred_df['y']==0]\n",
    "db=(theta.item(0)*sort_xt/theta.item(1)+theta.item(2)/theta.item(1))**2\n",
    "real_db=sort_xt**2\n",
    "\n",
    "fig1=plt.figure()\n",
    "plt.scatter(xyr1['x1'],xyr1['x2'],marker='x',c='red')\n",
    "plt.scatter(xyr0['x1'],xyr0['x2'],marker='o',c='blue')\n",
    "plt.plot(sort_xt,real_db)\n",
    "fig2=plt.figure()\n",
    "plt.scatter(xyp1['x1'],xyp1['x2'],marker='x',c='purple')\n",
    "plt.scatter(xyp0['x1'],xyp0['x2'],marker='o',c='green')\n",
    "plt.plot(sort_xt,db,c='green')\n",
    "\n",
    "plt.show()\n"
   ]
  },
  {
   "cell_type": "code",
   "execution_count": 18,
   "metadata": {
    "collapsed": false
   },
   "outputs": [
    {
     "name": "stdout",
     "output_type": "stream",
     "text": [
      "           x1        x2  y  pred_y\n",
      "450  0.735173  0.500313  1       1\n",
      "451  0.061652  0.877153  0       0\n",
      "452  0.145435  0.107183  0       0\n",
      "453  0.328668  0.841326  0       0\n",
      "454  0.287211  0.491055  0       0\n",
      "455  0.825380  0.338712  1       1\n",
      "456  0.504024  0.627649  0       0\n",
      "457  0.820674  0.188871  1       1\n",
      "458  0.192235  0.301021  0       0\n",
      "459  0.940975  0.930855  0       0\n",
      "460  0.922808  0.127674  1       1\n",
      "461  0.802247  0.320725  1       1\n",
      "462  0.879539  0.228081  1       1\n",
      "463  0.014373  0.962516  0       0\n",
      "464  0.640355  0.115025  1       1\n",
      "465  0.212642  0.409544  0       0\n",
      "466  0.732041  0.908171  0       0\n",
      "467  0.029063  0.533624  0       0\n",
      "468  0.873753  0.313351  1       1\n",
      "469  0.231468  0.656658  0       0\n",
      "470  0.694061  0.830409  0       0\n",
      "471  0.169888  0.298550  0       0\n",
      "472  0.953496  0.749752  1       1\n",
      "473  0.689180  0.853842  0       0\n",
      "474  0.089371  0.586610  0       0\n",
      "475  0.062774  0.227861  0       0\n",
      "476  0.442321  0.800117  0       0\n",
      "477  0.833949  0.982025  0       0\n",
      "478  0.975516  0.110069  1       1\n",
      "479  0.125286  0.457405  0       0\n",
      "480  0.165702  0.813206  0       0\n",
      "481  0.068951  0.375979  0       0\n",
      "482  0.898805  0.130511  1       1\n",
      "483  0.830955  0.034963  1       1\n",
      "484  0.298927  0.355525  0       0\n",
      "485  0.939282  0.329766  1       1\n",
      "486  0.843016  0.086366  1       1\n",
      "487  0.252554  0.184144  0       0\n",
      "488  0.547183  0.646667  0       0\n",
      "489  0.143406  0.712199  0       0\n",
      "490  0.561799  0.550369  0       0\n",
      "491  0.048016  0.099411  0       0\n",
      "492  0.715531  0.144464  1       1\n",
      "493  0.577933  0.121713  1       1\n",
      "494  0.051205  0.696145  0       0\n",
      "495  0.310680  0.868611  0       0\n",
      "496  0.246994  0.216412  0       0\n",
      "497  0.792153  0.216319  1       1\n",
      "498  0.128338  0.150612  0       0\n",
      "499  0.715950  0.474375  1       1\n"
     ]
    },
    {
     "name": "stderr",
     "output_type": "stream",
     "text": [
      "C:\\Anaconda3\\lib\\site-packages\\ipykernel\\__main__.py:1: SettingWithCopyWarning: \n",
      "A value is trying to be set on a copy of a slice from a DataFrame.\n",
      "Try using .loc[row_indexer,col_indexer] = value instead\n",
      "\n",
      "See the caveats in the documentation: http://pandas.pydata.org/pandas-docs/stable/indexing.html#indexing-view-versus-copy\n",
      "  if __name__ == '__main__':\n"
     ]
    }
   ],
   "source": [
    "test_df['pred_y']=ys.values\n",
    "print(test_df)"
   ]
  },
  {
   "cell_type": "code",
   "execution_count": null,
   "metadata": {
    "collapsed": true
   },
   "outputs": [],
   "source": []
  }
 ],
 "metadata": {
  "anaconda-cloud": {},
  "kernelspec": {
   "display_name": "Python [Root]",
   "language": "python",
   "name": "Python [Root]"
  },
  "language_info": {
   "codemirror_mode": {
    "name": "ipython",
    "version": 3
   },
   "file_extension": ".py",
   "mimetype": "text/x-python",
   "name": "python",
   "nbconvert_exporter": "python",
   "pygments_lexer": "ipython3",
   "version": "3.5.2"
  }
 },
 "nbformat": 4,
 "nbformat_minor": 0
}
